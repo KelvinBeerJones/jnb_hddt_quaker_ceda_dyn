{
 "cells": [
  {
   "cell_type": "markdown",
   "metadata": {},
   "source": [
    "# HDDT analysis - Quakers and the CEDA #"
   ]
  },
  {
   "cell_type": "code",
   "execution_count": 1,
   "metadata": {},
   "outputs": [],
   "source": [
    "import csv\n",
    "from operator import itemgetter\n",
    "import networkx as nx\n",
    "from networkx.algorithms import community \n",
    "#This part of networkx, for community detection, needs to be imported separately.\n",
    "import nbconvert"
   ]
  },
  {
   "cell_type": "markdown",
   "metadata": {},
   "source": [
    "<img src=\"quakers_ceda.png\">"
   ]
  },
  {
   "cell_type": "code",
   "execution_count": 2,
   "metadata": {},
   "outputs": [],
   "source": [
    "with open('vw_1_quakers_names.csv', 'r') as nodecsv: # Open the Nodes csv file\n",
    "    nodereader = csv.reader(nodecsv) # Read the csv\n",
    "    nodes = [n for n in nodereader][1:]# Retrieve the data (using Python list comprhension and list slicing\n",
    "                                       # to remove the header row\n",
    "    node_names = [n[0] for n in nodes] # Get a list of only the node names\n",
    "\n",
    "with open('vw_hddt_quakers_ceda_tuples.csv', 'r') as edgecsv: # Open the file\n",
    "    edgereader = csv.reader(edgecsv) # Read the csv\n",
    "    edge_list = list(edgereader) # Convert to list, so can iterate below in for loop\n",
    "    \n",
    "    # Create empty arrays to store edge data and edge attribute data\n",
    "    edges = []\n",
    "    #edges_attributes = []\n",
    "    \n",
    "    # Fill the arrays with data from CSV\n",
    "    for e in edge_list[1:]:\n",
    "        edges.append(tuple(e[0:2])) # Get the first 2 columns (source, target) and add to array\n",
    "        #edges_attributes.append(tuple(e[2:3])) # Get the 3rd column (relationship_type_id) and add to array\n",
    "    \n",
    "edge_names = [e[0] for e in edges] # Get a list of only the edge names  "
   ]
  },
  {
   "cell_type": "code",
   "execution_count": 3,
   "metadata": {},
   "outputs": [
    {
     "name": "stdout",
     "output_type": "stream",
     "text": [
      "Nodes length:  592\n",
      "Edges length:  695\n"
     ]
    }
   ],
   "source": [
    "print(\"Nodes length: \", len(node_names))\n",
    "print(\"Edges length: \", len(edges))\n",
    "#print(\"Edges attributes length: \", len(edges_attributes)) # This should be the same length as edges"
   ]
  },
  {
   "cell_type": "code",
   "execution_count": 4,
   "metadata": {},
   "outputs": [
    {
     "name": "stdout",
     "output_type": "stream",
     "text": [
      "First 5 nodes: ['Joseph Storrs', 'A Crowley', 'A Dale', 'A Ellis', 'A Janson']\n",
      "First 5 edges: [('Joseph Storrs', 'QCA'), ('A Crowley', 'APS'), ('A Dale', 'APS'), ('A Ellis', 'APS'), ('A Janson', 'APS')]\n"
     ]
    }
   ],
   "source": [
    "print(\"First 5 nodes:\", node_names[0:5])\n",
    "print(\"First 5 edges:\", edges[0:5])\n",
    "#print(\"First 5 edges attributes:\", edges_attributes[0:5])\n",
    "\n",
    "# The output will appear below this code cell."
   ]
  },
  {
   "cell_type": "code",
   "execution_count": 5,
   "metadata": {},
   "outputs": [
    {
     "name": "stdout",
     "output_type": "stream",
     "text": [
      "Name: \n",
      "Type: Graph\n",
      "Number of nodes: 598\n",
      "Number of edges: 684\n",
      "Average degree:   2.2876\n"
     ]
    }
   ],
   "source": [
    "G = nx.Graph()\n",
    "G.add_nodes_from(node_names)\n",
    "G.add_edges_from(edges)\n",
    "print(nx.info(G))"
   ]
  },
  {
   "cell_type": "markdown",
   "metadata": {},
   "source": [
    "# Nodes attributes\n",
    "birth_year_dict = {}\n",
    "death_year_dict = {}\n",
    "religion_name_dict = {}\n",
    "ceda_name_dict = {}\n",
    "person_ceda_first_year_dict = {}\n",
    "person_ceda_last_year_dict = {}\n",
    "\n",
    "# Edges attributes\n",
    "relationship_type_id_dict = {}"
   ]
  },
  {
   "cell_type": "markdown",
   "metadata": {},
   "source": [
    "for node in nodes: # Loop through the list, one row at a time\n",
    "    birth_year_dict [node[0]] = node[1]\n",
    "    death_year_dict [node[0]] = node[2]\n",
    "    religion_name_dict [node[0]] = node[3]\n",
    "    ceda_name_dict [node[0]] = node[4]\n",
    "    person_ceda_first_year_dict [node[0]] = node[5]\n",
    "    person_ceda_last_year_dict [node[0]] = node[6]\n",
    "    "
   ]
  },
  {
   "cell_type": "markdown",
   "metadata": {},
   "source": [
    "for i, edge in enumerate(edges): # Loop through the list, one row at a time\n",
    "    relationship_type_id_dict [(edge[0], edge[1])] = edges_attributes[i][0]    "
   ]
  },
  {
   "cell_type": "markdown",
   "metadata": {},
   "source": [
    "#print(relationship_type_id_dict)# list Source, target and first_year (all records). This shows the data that will be exported to Gephi.\n",
    "#print(len(relationship_type_id_dict))# At the end of the file print a count of all first_year check 3946)\n"
   ]
  },
  {
   "cell_type": "markdown",
   "metadata": {},
   "source": [
    "# Nodes\n",
    "\n",
    "nx.set_node_attributes(G, birth_year_dict, 'birth_year')\n",
    "nx.set_node_attributes(G, death_year_dict, 'death_year')\n",
    "nx.set_node_attributes(G, religion_name_dict, 'religion')\n",
    "nx.set_node_attributes(G, ceda_name_dict,'ceda')\n",
    "nx.set_node_attributes(G, person_ceda_first_year_dict, 'first_year') \n",
    "nx.set_node_attributes(G, person_ceda_last_year_dict, 'last_year')                    \n",
    "\n",
    "# Edges\n",
    "nx.set_edge_attributes(G, relationship_type_id_dict, 'relationship_type_id')"
   ]
  },
  {
   "cell_type": "code",
   "execution_count": 6,
   "metadata": {},
   "outputs": [],
   "source": [
    "#for n in G.nodes(): # Loop through every node, in our data \"n\" will be the name of the person\n",
    "#print(n, G.nodes[n]['birth_year']) # Access every node by its name, and then by the attribute \"birth_year\""
   ]
  },
  {
   "cell_type": "code",
   "execution_count": 7,
   "metadata": {},
   "outputs": [],
   "source": [
    "# nx.write_gexf(G, 'quakers_ceda_bigraph.gexf')"
   ]
  },
  {
   "cell_type": "code",
   "execution_count": null,
   "metadata": {},
   "outputs": [],
   "source": []
  }
 ],
 "metadata": {
  "kernelspec": {
   "display_name": "Python 3",
   "language": "python",
   "name": "python3"
  },
  "language_info": {
   "codemirror_mode": {
    "name": "ipython",
    "version": 3
   },
   "file_extension": ".py",
   "mimetype": "text/x-python",
   "name": "python",
   "nbconvert_exporter": "python",
   "pygments_lexer": "ipython3",
   "version": "3.8.8"
  }
 },
 "nbformat": 4,
 "nbformat_minor": 4
}
