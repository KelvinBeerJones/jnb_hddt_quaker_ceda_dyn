{
 "cells": [
  {
   "cell_type": "markdown",
   "metadata": {},
   "source": [
    "# HDDT analysis - Quakers and the CEDA (all) #"
   ]
  },
  {
   "cell_type": "markdown",
   "metadata": {},
   "source": [
    "<img src=\"quakers_ceda.png\">"
   ]
  },
  {
   "cell_type": "code",
   "execution_count": 1,
   "metadata": {},
   "outputs": [],
   "source": [
    "import csv\n",
    "import pandas as pd\n",
    "import matplotlib.pyplot as plt\n",
    "import numpy as np\n",
    "from operator import itemgetter\n",
    "import networkx as nx\n",
    "from networkx.algorithms import community \n",
    "#This part of networkx, for community detection, needs to be imported separately.\n",
    "import nbconvert\n",
    "import seaborn as sns\n",
    "plt.rc('figure', figsize=(20, 10))\n",
    "# <img src=\" xxx.png\">"
   ]
  },
  {
   "cell_type": "code",
   "execution_count": 2,
   "metadata": {},
   "outputs": [],
   "source": [
    "with open('vw_1_quakers.csv', 'r') as nodecsv: # Open the Nodes csv file\n",
    "    nodereader = csv.reader(nodecsv) # Read the csv\n",
    "    nodes = [n for n in nodereader][1:]# Retrieve the data (using Python list comprhension and list slicing\n",
    "                                       # to remove the header row\n",
    "    node_names = [n[0] for n in nodes] # Get a list of only the node names\n",
    "\n",
    "with open('vw_hddt_quakers_ceda_tuples_dates_py.csv', 'r') as edgecsv: # Open the file\n",
    "    edgereader = csv.reader(edgecsv) # Read the csv\n",
    "    edge_list = list(edgereader) # Convert to list, so can iterate below in for loop\n",
    "    \n",
    "    # Create empty arrays to store edge data and edge attribute data\n",
    "    edges = []\n",
    "    edges_attributes = []\n",
    "    \n",
    "    # Fill the arrays with data from CSV\n",
    "    for e in edge_list[1:]:\n",
    "        edges.append(tuple(e[0:2])) # Get the first 2 columns (source, target) and add to array\n",
    "        edges_attributes.append(tuple(e[3:5])) # Get the 3rd column (relationship_type_id) and add to array\n",
    "    \n",
    "edge_names = [e[0] for e in edges] # Get a list of only the edge names  "
   ]
  },
  {
   "cell_type": "code",
   "execution_count": 3,
   "metadata": {},
   "outputs": [
    {
     "name": "stdout",
     "output_type": "stream",
     "text": [
      "Nodes length:  589\n",
      "Edges length:  639\n",
      "Edges attributes length:  639\n"
     ]
    }
   ],
   "source": [
    "print(\"Nodes length: \", len(node_names))\n",
    "print(\"Edges length: \", len(edges))\n",
    "print(\"Edges attributes length: \", len(edges_attributes)) # This should be the same length as edges"
   ]
  },
  {
   "cell_type": "code",
   "execution_count": 4,
   "metadata": {},
   "outputs": [
    {
     "name": "stdout",
     "output_type": "stream",
     "text": [
      "First 5 nodes: ['William Aldam', 'S  Stafford Allen', 'Edward Backhouse', 'James (1) Backhouse', 'James Bell']\n",
      "First 5 edges: [('William Aldam', 'ESL'), ('Edward Backhouse', 'ESL'), ('James (1) Backhouse', 'ESL'), ('James Bell', 'ESL'), ('Henry Christy', 'ESL')]\n",
      "First 5 edges attributes: [('1844', '1849'), ('1870', '1872'), ('1869', '1870'), ('1852', '1863'), ('1854', '1866')]\n"
     ]
    }
   ],
   "source": [
    "print(\"First 5 nodes:\", node_names[0:5])\n",
    "print(\"First 5 edges:\", edges[0:5])\n",
    "print(\"First 5 edges attributes:\", edges_attributes[0:5])\n",
    "\n",
    "# The output will appear below this code cell."
   ]
  },
  {
   "cell_type": "code",
   "execution_count": 5,
   "metadata": {},
   "outputs": [
    {
     "name": "stdout",
     "output_type": "stream",
     "text": [
      "Name: \n",
      "Type: Graph\n",
      "Number of nodes: 594\n",
      "Number of edges: 639\n",
      "Average degree:   2.1515\n"
     ]
    }
   ],
   "source": [
    "G = nx.Graph()\n",
    "G.add_nodes_from(node_names)\n",
    "G.add_edges_from(edges)\n",
    "print(nx.info(G))"
   ]
  },
  {
   "cell_type": "code",
   "execution_count": 6,
   "metadata": {},
   "outputs": [],
   "source": [
    "# Edges\n",
    "first_year_dict = {}\n",
    "last_year_dict = {}"
   ]
  },
  {
   "cell_type": "code",
   "execution_count": 7,
   "metadata": {},
   "outputs": [],
   "source": [
    "for i, edge in enumerate(edges): # Loop through the list, one row at a time\n",
    "    first_year_dict [(edge [0], edge[1])] = edges_attributes[i][0]\n",
    "    last_year_dict [(edge [0], edge[1])] = edges_attributes[i][1]"
   ]
  },
  {
   "cell_type": "code",
   "execution_count": 8,
   "metadata": {},
   "outputs": [],
   "source": [
    "# Edges\n",
    "nx.set_edge_attributes(G, first_year_dict, 'first_year')\n",
    "nx.set_edge_attributes(G, last_year_dict, 'last_year')"
   ]
  },
  {
   "cell_type": "code",
   "execution_count": 9,
   "metadata": {},
   "outputs": [],
   "source": [
    "#for n in G.nodes(): # Loop through every node, in our data \"n\" will be the name of the person\n",
    "#print(n, G.nodes[n]['birth_year']) # Access every node by its name, and then by the attribute \"birth_year\""
   ]
  },
  {
   "cell_type": "code",
   "execution_count": 10,
   "metadata": {},
   "outputs": [],
   "source": [
    "nx.write_gexf(G, 'quakers_ceda_dyn.gexf')"
   ]
  },
  {
   "cell_type": "code",
   "execution_count": null,
   "metadata": {},
   "outputs": [],
   "source": []
  }
 ],
 "metadata": {
  "kernelspec": {
   "display_name": "Python 3",
   "language": "python",
   "name": "python3"
  },
  "language_info": {
   "codemirror_mode": {
    "name": "ipython",
    "version": 3
   },
   "file_extension": ".py",
   "mimetype": "text/x-python",
   "name": "python",
   "nbconvert_exporter": "python",
   "pygments_lexer": "ipython3",
   "version": "3.8.8"
  }
 },
 "nbformat": 4,
 "nbformat_minor": 4
}
